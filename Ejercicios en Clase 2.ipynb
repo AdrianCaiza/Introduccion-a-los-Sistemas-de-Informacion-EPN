{
  "cells": [
    {
      "cell_type": "code",
      "execution_count": 63,
      "id": "2c1ee42d",
      "metadata": {
        "colab": {
          "base_uri": "https://localhost:8080/"
        },
        "id": "2c1ee42d",
        "outputId": "4983f0f9-abbd-402c-f207-d4cb19d6f4a3"
      },
      "outputs": [
        {
          "output_type": "stream",
          "name": "stdout",
          "text": [
            "Soy Juan y estudio Sistemas de Información.\n"
          ]
        }
      ],
      "source": [
        "\n",
        "class Estudiante:\n",
        "    def __init__(self, nombre, carrera):\n",
        "        self.nombre = nombre\n",
        "        self.carrera = carrera\n",
        "    #Un metodo que describe al objeto\n",
        "    def describir(self):\n",
        "        print(f\"Soy {self.nombre} y estudio {self.carrera}.\")\n",
        "x = Estudiante(\"Juan\", \"Sistemas de Información\")\n",
        "x.describir()"
      ]
    },
    {
      "cell_type": "code",
      "execution_count": 64,
      "id": "57ab2f32",
      "metadata": {
        "id": "57ab2f32"
      },
      "outputs": [],
      "source": [
        "class Cliente:\n",
        "  def __init__(self, nombre, cedula, saldo=0.0, historial=[]):\n",
        "    self.nombre = nombre\n",
        "    self.cedula = cedula\n",
        "    self.saldo = saldo\n",
        "    self.historial = historial\n",
        "\n",
        "  def comprar(self, producto, dia, mes):\n",
        "    if self.saldo > producto.precio:\n",
        "      self.saldo -= producto.precio\n",
        "      self.historial.append({\n",
        "          \"producto\": producto.nombre,\n",
        "          \"precio\": producto.precio,\n",
        "          \"dia\": dia,\n",
        "          \"mes\": mes\n",
        "      })"
      ]
    },
    {
      "cell_type": "code",
      "execution_count": 65,
      "id": "b69b1f04",
      "metadata": {
        "id": "b69b1f04"
      },
      "outputs": [],
      "source": [
        "\n",
        "class Producto:\n",
        "    def __init__(self, nombre, precio):\n",
        "        self.nombre = nombre\n",
        "        self.precio = precio"
      ]
    },
    {
      "cell_type": "code",
      "execution_count": 66,
      "id": "07bf811f",
      "metadata": {
        "id": "07bf811f"
      },
      "outputs": [],
      "source": [
        "c1 = Cliente(nombre=\"Juan\", cedula='123', saldo=100)"
      ]
    },
    {
      "cell_type": "code",
      "execution_count": 67,
      "id": "577339a8",
      "metadata": {
        "id": "577339a8"
      },
      "outputs": [],
      "source": [
        "p1 = Producto(nombre=\"Café\", precio=3)\n",
        "p2 = Producto(nombre=\"Cama\", precio=30)\n",
        "p3 = Producto(nombre=\"Dona\", precio=5)"
      ]
    },
    {
      "cell_type": "code",
      "execution_count": 68,
      "id": "5f76dbef",
      "metadata": {
        "id": "5f76dbef"
      },
      "outputs": [],
      "source": [
        "c1.comprar(p1, '3', '10')\n",
        "c1.comprar(p2, '15', '10')\n",
        "c1.comprar(p3, '15', '10')\n",
        "c1.comprar(p1, '17', '10')\n",
        "c1.comprar(p3, '19', '10')\n",
        "c1.comprar(p2, '22', '10')\n",
        "c1.comprar(p3, '26', '10')\n",
        "c1.comprar(p2, '29', '10')\n",
        "c1.comprar(p3, '1', '10')\n",
        "c1.comprar(p2, '29', '10')\n",
        "c1.comprar(p1, '11', '10')"
      ]
    },
    {
      "cell_type": "code",
      "source": [
        "c1.saldo"
      ],
      "metadata": {
        "colab": {
          "base_uri": "https://localhost:8080/"
        },
        "id": "_kKx4LsTlhQZ",
        "outputId": "dced1831-0e6d-4fc2-f4ec-5cc49bd03235"
      },
      "id": "_kKx4LsTlhQZ",
      "execution_count": 69,
      "outputs": [
        {
          "output_type": "execute_result",
          "data": {
            "text/plain": [
              "11"
            ]
          },
          "metadata": {},
          "execution_count": 69
        }
      ]
    },
    {
      "cell_type": "code",
      "execution_count": 70,
      "id": "0c314330",
      "metadata": {
        "colab": {
          "base_uri": "https://localhost:8080/"
        },
        "id": "0c314330",
        "outputId": "c1c0fb9c-808c-40a5-dbf0-df10e7808e87"
      },
      "outputs": [
        {
          "output_type": "stream",
          "name": "stdout",
          "text": [
            "{'producto': 'Café', 'precio': 3, 'dia': '3', 'mes': '10'}\n",
            "{'producto': 'Cama', 'precio': 30, 'dia': '15', 'mes': '10'}\n",
            "{'producto': 'Dona', 'precio': 5, 'dia': '15', 'mes': '10'}\n",
            "{'producto': 'Café', 'precio': 3, 'dia': '17', 'mes': '10'}\n",
            "{'producto': 'Dona', 'precio': 5, 'dia': '19', 'mes': '10'}\n",
            "{'producto': 'Cama', 'precio': 30, 'dia': '22', 'mes': '10'}\n",
            "{'producto': 'Dona', 'precio': 5, 'dia': '26', 'mes': '10'}\n",
            "{'producto': 'Dona', 'precio': 5, 'dia': '1', 'mes': '10'}\n",
            "{'producto': 'Café', 'precio': 3, 'dia': '11', 'mes': '10'}\n"
          ]
        }
      ],
      "source": [
        "for p in c1.historial:\n",
        "    print(p)"
      ]
    },
    {
      "cell_type": "code",
      "source": [
        "len(c1.historial)"
      ],
      "metadata": {
        "colab": {
          "base_uri": "https://localhost:8080/"
        },
        "id": "6iHZ2HGrlqdn",
        "outputId": "88f2d308-b74d-4e2e-fb65-820a4c4d408a"
      },
      "id": "6iHZ2HGrlqdn",
      "execution_count": 71,
      "outputs": [
        {
          "output_type": "execute_result",
          "data": {
            "text/plain": [
              "9"
            ]
          },
          "metadata": {},
          "execution_count": 71
        }
      ]
    },
    {
      "cell_type": "code",
      "execution_count": 72,
      "id": "88682c91",
      "metadata": {
        "colab": {
          "base_uri": "https://localhost:8080/"
        },
        "id": "88682c91",
        "outputId": "f3df9b3c-3dc4-44c9-9119-397112fb0750"
      },
      "outputs": [
        {
          "output_type": "stream",
          "name": "stdout",
          "text": [
            "11\n"
          ]
        }
      ],
      "source": [
        "print(c1.saldo)"
      ]
    }
  ],
  "metadata": {
    "kernelspec": {
      "display_name": "Python 3",
      "language": "python",
      "name": "python3"
    },
    "language_info": {
      "codemirror_mode": {
        "name": "ipython",
        "version": 3
      },
      "file_extension": ".py",
      "mimetype": "text/x-python",
      "name": "python",
      "nbconvert_exporter": "python",
      "pygments_lexer": "ipython3",
      "version": "3.13.7"
    },
    "colab": {
      "provenance": []
    }
  },
  "nbformat": 4,
  "nbformat_minor": 5
}