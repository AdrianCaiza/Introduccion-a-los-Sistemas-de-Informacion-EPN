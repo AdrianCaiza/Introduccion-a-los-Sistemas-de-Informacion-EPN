{
  "nbformat": 4,
  "nbformat_minor": 0,
  "metadata": {
    "colab": {
      "provenance": []
    },
    "kernelspec": {
      "name": "python3",
      "display_name": "Python 3"
    },
    "language_info": {
      "name": "python"
    }
  },
  "cells": [
    {
      "cell_type": "markdown",
      "source": [
        "# Ejercicios en Clase #1\n",
        "###2025/10/17"
      ],
      "metadata": {
        "id": "evaFso1zVXKb"
      }
    },
    {
      "cell_type": "code",
      "source": [
        "#Para imprimir en Python solo se necesita escribir lo que se desee mostrar\n",
        "\"Hola Mundo\""
      ],
      "metadata": {
        "colab": {
          "base_uri": "https://localhost:8080/",
          "height": 35
        },
        "id": "whjcbeH6WHnX",
        "outputId": "bf5578a9-17ec-4280-e91e-93b4e8b45f47"
      },
      "execution_count": 47,
      "outputs": [
        {
          "output_type": "execute_result",
          "data": {
            "text/plain": [
              "'Hola Mundo'"
            ],
            "application/vnd.google.colaboratory.intrinsic+json": {
              "type": "string"
            }
          },
          "metadata": {},
          "execution_count": 47
        }
      ]
    },
    {
      "cell_type": "code",
      "source": [
        "#Otra forma es usar print()\n",
        "print('pollo')"
      ],
      "metadata": {
        "colab": {
          "base_uri": "https://localhost:8080/"
        },
        "id": "JD_6D1Egedvv",
        "outputId": "80c09f42-9fd8-46b4-e2d1-7aa1a6da7ed6"
      },
      "execution_count": 48,
      "outputs": [
        {
          "output_type": "stream",
          "name": "stdout",
          "text": [
            "pollo\n"
          ]
        }
      ]
    },
    {
      "cell_type": "code",
      "source": [
        "#Las operaciones se realizan solo escribiendo lo que se desee hacer\n",
        "3+67"
      ],
      "metadata": {
        "colab": {
          "base_uri": "https://localhost:8080/"
        },
        "id": "3bXCws3nW20g",
        "outputId": "23078886-9ca0-499e-8195-dc85a3de958c"
      },
      "execution_count": 49,
      "outputs": [
        {
          "output_type": "execute_result",
          "data": {
            "text/plain": [
              "70"
            ]
          },
          "metadata": {},
          "execution_count": 49
        }
      ]
    },
    {
      "cell_type": "markdown",
      "source": [
        "- Asignar variables"
      ],
      "metadata": {
        "id": "PLav0gZDbd7q"
      }
    },
    {
      "cell_type": "code",
      "source": [
        "a = 80\n",
        "a"
      ],
      "metadata": {
        "colab": {
          "base_uri": "https://localhost:8080/"
        },
        "id": "gO28L_Z6brG6",
        "outputId": "0c255042-b542-448b-d01b-978661e54ea3"
      },
      "execution_count": 50,
      "outputs": [
        {
          "output_type": "execute_result",
          "data": {
            "text/plain": [
              "80"
            ]
          },
          "metadata": {},
          "execution_count": 50
        }
      ]
    },
    {
      "cell_type": "markdown",
      "source": [
        "- Operaciones con Variables"
      ],
      "metadata": {
        "id": "9_NEqHsCcVQ5"
      }
    },
    {
      "cell_type": "code",
      "source": [
        "a = 100\n",
        "b = 85\n",
        "c = 8.3\n",
        "d = 2.5\n",
        "e = 'vaca'\n",
        "f = ' lechera'\n",
        "#se pueden realizar operaciones con variables de cualquier tipo"
      ],
      "metadata": {
        "id": "knFJ7tQUcZxp"
      },
      "execution_count": 51,
      "outputs": []
    },
    {
      "cell_type": "code",
      "source": [
        "a+b"
      ],
      "metadata": {
        "colab": {
          "base_uri": "https://localhost:8080/"
        },
        "id": "kRZpn2Rsdl4A",
        "outputId": "adc52184-0ba8-4e3d-a7b4-9fc4f8e12e73"
      },
      "execution_count": 52,
      "outputs": [
        {
          "output_type": "execute_result",
          "data": {
            "text/plain": [
              "185"
            ]
          },
          "metadata": {},
          "execution_count": 52
        }
      ]
    },
    {
      "cell_type": "code",
      "source": [
        "c+d"
      ],
      "metadata": {
        "colab": {
          "base_uri": "https://localhost:8080/"
        },
        "id": "i-3bKzIDdTvw",
        "outputId": "0a1b175c-b199-492f-873c-3c318d04bd63"
      },
      "execution_count": 53,
      "outputs": [
        {
          "output_type": "execute_result",
          "data": {
            "text/plain": [
              "10.8"
            ]
          },
          "metadata": {},
          "execution_count": 53
        }
      ]
    },
    {
      "cell_type": "code",
      "source": [
        "a+d"
      ],
      "metadata": {
        "colab": {
          "base_uri": "https://localhost:8080/"
        },
        "id": "HYlqqMJkdo4A",
        "outputId": "a1776a0c-3114-40a6-b509-d9707184c05f"
      },
      "execution_count": 54,
      "outputs": [
        {
          "output_type": "execute_result",
          "data": {
            "text/plain": [
              "102.5"
            ]
          },
          "metadata": {},
          "execution_count": 54
        }
      ]
    },
    {
      "cell_type": "code",
      "source": [
        "e+f"
      ],
      "metadata": {
        "colab": {
          "base_uri": "https://localhost:8080/",
          "height": 35
        },
        "id": "4TxboD7mdo6Q",
        "outputId": "fde064fa-0b5c-44a8-ae94-6d4a7542e619"
      },
      "execution_count": 55,
      "outputs": [
        {
          "output_type": "execute_result",
          "data": {
            "text/plain": [
              "'vaca lechera'"
            ],
            "application/vnd.google.colaboratory.intrinsic+json": {
              "type": "string"
            }
          },
          "metadata": {},
          "execution_count": 55
        }
      ]
    },
    {
      "cell_type": "markdown",
      "source": [
        "Si el bloque de código muestra mas de dos operaciones solo se realizara la última"
      ],
      "metadata": {
        "id": "hJVYsqyEduHY"
      }
    },
    {
      "cell_type": "code",
      "source": [
        "a+d\n",
        "d+d"
      ],
      "metadata": {
        "colab": {
          "base_uri": "https://localhost:8080/"
        },
        "id": "dAMlsxpMd903",
        "outputId": "53ca51dd-7f1c-4e9d-8380-943765e2b6cf"
      },
      "execution_count": 56,
      "outputs": [
        {
          "output_type": "execute_result",
          "data": {
            "text/plain": [
              "5.0"
            ]
          },
          "metadata": {},
          "execution_count": 56
        }
      ]
    },
    {
      "cell_type": "markdown",
      "source": [
        "No se pueden juntar variables de tipo String con enteros o decimales"
      ],
      "metadata": {
        "id": "h5LgeW3beBMB"
      }
    },
    {
      "cell_type": "code",
      "source": [
        "a+f"
      ],
      "metadata": {
        "colab": {
          "base_uri": "https://localhost:8080/",
          "height": 141
        },
        "id": "xtI8KhNweMbI",
        "outputId": "347019b5-e0c4-484d-a8a3-cb66da95482c"
      },
      "execution_count": 57,
      "outputs": [
        {
          "output_type": "error",
          "ename": "TypeError",
          "evalue": "unsupported operand type(s) for +: 'int' and 'str'",
          "traceback": [
            "\u001b[0;31m---------------------------------------------------------------------------\u001b[0m",
            "\u001b[0;31mTypeError\u001b[0m                                 Traceback (most recent call last)",
            "\u001b[0;32m/tmp/ipython-input-4025864105.py\u001b[0m in \u001b[0;36m<cell line: 0>\u001b[0;34m()\u001b[0m\n\u001b[0;32m----> 1\u001b[0;31m \u001b[0ma\u001b[0m\u001b[0;34m+\u001b[0m\u001b[0mf\u001b[0m\u001b[0;34m\u001b[0m\u001b[0;34m\u001b[0m\u001b[0m\n\u001b[0m",
            "\u001b[0;31mTypeError\u001b[0m: unsupported operand type(s) for +: 'int' and 'str'"
          ]
        }
      ]
    },
    {
      "cell_type": "markdown",
      "source": [
        "- Estructuras de Control"
      ],
      "metadata": {
        "id": "SXNGBdxKevDu"
      }
    },
    {
      "cell_type": "markdown",
      "source": [
        "Para realizar estructuras de control se usan los \":\" en lugar de los {}"
      ],
      "metadata": {
        "id": "nCIGhZztfDE2"
      }
    },
    {
      "cell_type": "code",
      "source": [
        "a = 2\n",
        "b = e\n",
        "if(b==1):\n",
        "  print('Si la afirmacion es verdadera, se genera este texto')\n",
        "else:\n",
        "  print('Si la afirmacion es falsa, se genera este texto')"
      ],
      "metadata": {
        "id": "NRmJ3qnOfPhO"
      },
      "execution_count": null,
      "outputs": []
    },
    {
      "cell_type": "markdown",
      "source": [
        "- Conjuntos"
      ],
      "metadata": {
        "id": "SR-7n4B7fejO"
      }
    },
    {
      "cell_type": "code",
      "source": [
        "Conjunto = {'a', 'b', 'c'}\n",
        "for i in Conjunto:\n",
        "  print(i)"
      ],
      "metadata": {
        "id": "jnojsDbOfkhW"
      },
      "execution_count": null,
      "outputs": []
    },
    {
      "cell_type": "markdown",
      "source": [
        "Agregar elementos a un conjunto"
      ],
      "metadata": {
        "id": "x5ieQlzPgQ1G"
      }
    },
    {
      "cell_type": "code",
      "source": [
        "Conjunto.add('d')\n",
        "Conjunto.add('e')\n",
        "\n",
        "for i in Conjunto:\n",
        "    print(i)"
      ],
      "metadata": {
        "id": "brhM_nY7gT6N"
      },
      "execution_count": null,
      "outputs": []
    },
    {
      "cell_type": "markdown",
      "source": [
        "Remover elementos de un conjunto"
      ],
      "metadata": {
        "id": "p6geA7dugUIl"
      }
    },
    {
      "cell_type": "code",
      "source": [
        "#El elemento removido debe existir en el conjunto\n",
        "Conjunto = {'a','b','c','d', 'e'}\n",
        "Conjunto.remove('d')\n",
        "Conjunto.remove('e')\n",
        "\n",
        "for i in Conjunto:\n",
        "     print(i)"
      ],
      "metadata": {
        "id": "dbzBKi5ugxUd"
      },
      "execution_count": null,
      "outputs": []
    },
    {
      "cell_type": "markdown",
      "source": [
        "Nota: a ≠ A"
      ],
      "metadata": {
        "id": "qRNxp-UDhOF1"
      }
    }
  ]
}